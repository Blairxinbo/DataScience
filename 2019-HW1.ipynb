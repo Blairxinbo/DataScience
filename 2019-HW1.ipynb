{
 "cells": [
  {
   "cell_type": "markdown",
   "metadata": {},
   "source": [
    "# Introduction to Data Science - Homework 1\n",
    "*COMP 5360 / MATH 4100, University of Utah, http://datasciencecourse.net/*\n",
    "\n",
    "Due: Friday, Jannuary 18, 11:59pm.\n",
    "\n",
    "This homework is designed to practice the skills we learned in up until Lecture 3: working with loops, conditions, functions, and the built-in Python data structures. Make sure to go through the lecture again in case you have any troubles.\n",
    "\n",
    "**Note: You may not use higher-level library functions but should implement everything using functions, loops, and conditions.**"
   ]
  },
  {
   "cell_type": "markdown",
   "metadata": {},
   "source": [
    "## Your Data\n",
    "Fill out the following information: \n",
    "\n",
    "*First Name:* *Xinbo*   \n",
    "*Last Name:* *Wang*  \n",
    "*E-mail:* xinbo.wang@utah.edu  \n",
    "*UID:* *u0930578* \n"
   ]
  },
  {
   "cell_type": "code",
   "execution_count": 10,
   "metadata": {},
   "outputs": [],
   "source": [
    "def get_largest_element(my_list):\n",
    "    # your code goes here\n",
    "    max_value = 0\n",
    "\n",
    "    for value in my_list:\n",
    "      if value > max_value:\n",
    "          max_value = value\n",
    "    return max_value"
   ]
  },
  {
   "cell_type": "markdown",
   "metadata": {},
   "source": [
    "## Problem 1 - Largest Element\n",
    "\n",
    "Write a function that returns the largest element in a list."
   ]
  },
  {
   "cell_type": "code",
   "execution_count": 11,
   "metadata": {},
   "outputs": [
    {
     "name": "stdout",
     "output_type": "stream",
     "text": [
      "133\n"
     ]
    }
   ],
   "source": [
    "# you can use this to test:\n",
    "print(get_largest_element([13, 25, 29, 17, 99, 133, -12, 0, 18]))"
   ]
  },
  {
   "cell_type": "markdown",
   "metadata": {},
   "source": [
    "## Problem 2 - Reverse List\n",
    "\n",
    "Write a function that reverses a list."
   ]
  },
  {
   "cell_type": "code",
   "execution_count": 19,
   "metadata": {},
   "outputs": [],
   "source": [
    "# your function goes here\n",
    "def reverse(my_list):\n",
    "    newList = []\n",
    "    for item in my_list[::-1]:\n",
    "        newList.append(item)\n",
    "    return newList"
   ]
  },
  {
   "cell_type": "code",
   "execution_count": 20,
   "metadata": {},
   "outputs": [
    {
     "name": "stdout",
     "output_type": "stream",
     "text": [
      "[5, 4, 3, 2, 1]\n",
      "['George', 'Ringo', 'Paul', 'John']\n",
      "['Paul', 'John', 3, 2, 1]\n"
     ]
    }
   ],
   "source": [
    "# call your function with a couple of different lists and print the results here\n",
    "print(reverse([1, 2 ,3 ,4 ,5]))\n",
    "print(reverse([\"John\", \"Paul\", \"Ringo\", \"George\"]))\n",
    "print(reverse([1, 2 ,3 ,\"John\", \"Paul\"]))"
   ]
  },
  {
   "cell_type": "markdown",
   "metadata": {},
   "source": [
    "## Problem 3 - Combining List\n",
    "\n",
    "Write a function that combines two lists by alternatingly taking elements, e.g. [a,b,c], [1,2,3] → [a,1,b,2,c,3]."
   ]
  },
  {
   "cell_type": "code",
   "execution_count": 21,
   "metadata": {},
   "outputs": [],
   "source": [
    "# your code goes here\n",
    "def combine_list(list1, list2):\n",
    "    newList = []\n",
    "    len1 = len(list1)\n",
    "    len2 = len(list2)\n",
    "    for i in range(max(len1, len2)):\n",
    "        if i < len1:\n",
    "            newList += [list1[i]]\n",
    "        if i < len2:\n",
    "            newList += [list2[i]]\n",
    "    return newList"
   ]
  },
  {
   "cell_type": "code",
   "execution_count": 22,
   "metadata": {},
   "outputs": [
    {
     "name": "stdout",
     "output_type": "stream",
     "text": [
      "[1, 'a', 2, 'b', 3, 'c', 'd', 'e']\n"
     ]
    }
   ],
   "source": [
    "# call your function with a couple of different lists and print the results here\n",
    "print(combine_list([1,2,3], ['a', 'b', 'c', 'd', 'e']))"
   ]
  },
  {
   "cell_type": "markdown",
   "metadata": {},
   "source": [
    "## Problem 4 - Numbers to Digits\n",
    "\n",
    "Write a function that takes a number and returns a list of its digits."
   ]
  },
  {
   "cell_type": "code",
   "execution_count": 23,
   "metadata": {},
   "outputs": [],
   "source": [
    "# your function goes here\n",
    "def num2digits(Num):\n",
    "    list = []\n",
    "    if Num < 0:\n",
    "        return -1\n",
    "    if Num == 0:\n",
    "       return [0]\n",
    "    while Num > 0:\n",
    "        list.append(Num % 10)\n",
    "        Num = Num // 10\n",
    "    return list"
   ]
  },
  {
   "cell_type": "code",
   "execution_count": 24,
   "metadata": {},
   "outputs": [
    {
     "name": "stdout",
     "output_type": "stream",
     "text": [
      "[6, 5, 4, 9, 8, 7]\n",
      "[3, 2, 8, 1, 9, 0, 3, 2, 8, 1, 9, 0, 7, 4, 9, 0, 1, 7, 9, 3, 2, 1]\n"
     ]
    }
   ],
   "source": [
    "# call your function with a couple of different lists and print the results here\n",
    "print(num2digits(789456))\n",
    "print(num2digits(1239710947091823091823))"
   ]
  },
  {
   "cell_type": "markdown",
   "metadata": {},
   "source": [
    "## Problem 5 - Sums\n",
    "\n",
    "Write three functions that compute the sum of the numbers in a list. The first function should use a for-loop, the second a while-loop and the third should use recursion."
   ]
  },
  {
   "cell_type": "code",
   "execution_count": 26,
   "metadata": {},
   "outputs": [],
   "source": [
    "# your functions goes here\n",
    "def sums1(my_list):\n",
    "    sum = 0\n",
    "    for i in my_list:\n",
    "        sum += i\n",
    "    return sum\n",
    "\n",
    "def sums2(my_list):\n",
    "    sum2 = 0\n",
    "    i = 0\n",
    "    while i < len(my_list):\n",
    "        sum2 += my_list[i]\n",
    "        i += 1\n",
    "    return sum2\n",
    "\n",
    "def sums3(my_list):\n",
    "    if len(my_list) == 0:\n",
    "        return 0\n",
    "    else:\n",
    "        return my_list[0] + sums3(my_list[1:])"
   ]
  },
  {
   "cell_type": "code",
   "execution_count": 27,
   "metadata": {},
   "outputs": [
    {
     "name": "stdout",
     "output_type": "stream",
     "text": [
      "for-loop: 55 52 37\n",
      "while-loop: 55 52 37\n",
      "recursion: 55 52 37\n"
     ]
    }
   ],
   "source": [
    "# call your function with a couple of different lists and print the results here\n",
    "list1 = range(11)\n",
    "list2 = [1, 2, 3, 9, 7, 1, 0, 9, 4, 7, 0, 9]\n",
    "list3 = [1, 8, 2, 3, 0, 9, 1, 8, 2, 3]\n",
    "print(\"for-loop:\", sums1(list1),sums1(list2),sums1(list3))\n",
    "print(\"while-loop:\", sums2(list1),sums2(list2),sums2(list3))\n",
    "print(\"recursion:\", sums3(list1),sums3(list2),sums3(list3))"
   ]
  },
  {
   "cell_type": "markdown",
   "metadata": {},
   "source": [
    "## Problem 6 - Fibonacchi Sequence\n",
    "\n",
    "Write a function that takes a number n and an empty array that writes the first n numbers of the Fibonacchi Sequence into the empty array. Print the array. \n",
    "\n",
    "The Fibonnachi Sequence is a sequence where every number after the first two is the sum of the previous two numbers, i.e.,\n",
    "\n",
    "1, 1, 2, 3, 5, 8, 13, 21, 34, 55, ..."
   ]
  },
  {
   "cell_type": "code",
   "execution_count": 28,
   "metadata": {},
   "outputs": [],
   "source": [
    "# your function goes here \n",
    "def Fibonnachi(Num):\n",
    "    Seque = [1, 1]\n",
    "    for i in range(2, Num):\n",
    "        Seque.append(Seque[i-1] + Seque[i-2])\n",
    "    return Seque"
   ]
  },
  {
   "cell_type": "code",
   "execution_count": 29,
   "metadata": {},
   "outputs": [
    {
     "name": "stdout",
     "output_type": "stream",
     "text": [
      "[1, 1, 2, 3, 5, 8, 13, 21, 34, 55]\n"
     ]
    }
   ],
   "source": [
    "# call your function with a couple of different n and print the results here\n",
    "print(Fibonnachi(10))"
   ]
  },
  {
   "cell_type": "markdown",
   "metadata": {},
   "source": [
    "## Problem 7 - Rainfall\n",
    "\n",
    "Write a function called rainfall that reads a list of numbers representing daily rainfall amounts. The list may contain the number -999 indicating the end of the data of interest. Produce the average of the non-negative values in the list up to the first -999 (if it shows up). There may be negative numbers other than -999 in the list.\n",
    "\n",
    "We provide you with several different test arrays, but your code should work with arbitrary arrays."
   ]
  },
  {
   "cell_type": "code",
   "execution_count": 30,
   "metadata": {},
   "outputs": [],
   "source": [
    "rainfall_one = [16, 19, 22, 41, -999, 199, 254]\n",
    "rainfall_two = [33, 24, 10, -2, -99, 0, 15, 82, -1325, 15]\n",
    "rainfall_three = [2, 2, -999, 10]\n",
    "rainfall_four = [-999, 2, 5, -19, 16]\n",
    "rainfall_five = []"
   ]
  },
  {
   "cell_type": "code",
   "execution_count": 31,
   "metadata": {},
   "outputs": [],
   "source": [
    "# your function goes here\n",
    "def rainfall(rainfall_list):\n",
    "    rainfall = 0\n",
    "    index = 1\n",
    "    average = 0\n",
    "    for i in rainfall_list:\n",
    "        if i == -999:\n",
    "            break\n",
    "        elif i < 0:\n",
    "            continue\n",
    "        else:\n",
    "            rainfall += i \n",
    "            index += 1\n",
    "           \n",
    "    if index <= 1:\n",
    "        print(\"invaild input\")\n",
    "    else:\n",
    "        average = rainfall / (index - 1)       \n",
    "        print(average)"
   ]
  },
  {
   "cell_type": "code",
   "execution_count": 32,
   "metadata": {},
   "outputs": [
    {
     "name": "stdout",
     "output_type": "stream",
     "text": [
      "24.5\n"
     ]
    }
   ],
   "source": [
    "# print the results for all the lists above here\n",
    "rainfall(rainfall_one)"
   ]
  },
  {
   "cell_type": "code",
   "execution_count": 33,
   "metadata": {},
   "outputs": [
    {
     "name": "stdout",
     "output_type": "stream",
     "text": [
      "25.571428571428573\n"
     ]
    }
   ],
   "source": [
    "rainfall(rainfall_two)"
   ]
  },
  {
   "cell_type": "code",
   "execution_count": 34,
   "metadata": {},
   "outputs": [
    {
     "name": "stdout",
     "output_type": "stream",
     "text": [
      "2.0\n"
     ]
    }
   ],
   "source": [
    "\n",
    "rainfall(rainfall_three)"
   ]
  },
  {
   "cell_type": "code",
   "execution_count": 35,
   "metadata": {},
   "outputs": [
    {
     "name": "stdout",
     "output_type": "stream",
     "text": [
      "invaild input\n"
     ]
    }
   ],
   "source": [
    "rainfall(rainfall_four)"
   ]
  },
  {
   "cell_type": "code",
   "execution_count": 36,
   "metadata": {},
   "outputs": [
    {
     "name": "stdout",
     "output_type": "stream",
     "text": [
      "invaild input\n"
     ]
    }
   ],
   "source": [
    "rainfall(rainfall_five)"
   ]
  }
 ],
 "metadata": {
  "anaconda-cloud": {},
  "kernelspec": {
   "display_name": "Python 3",
   "language": "python",
   "name": "python3"
  },
  "language_info": {
   "codemirror_mode": {
    "name": "ipython",
    "version": 3
   },
   "file_extension": ".py",
   "mimetype": "text/x-python",
   "name": "python",
   "nbconvert_exporter": "python",
   "pygments_lexer": "ipython3",
   "version": "3.7.1"
  }
 },
 "nbformat": 4,
 "nbformat_minor": 1
}
